{
 "cells": [
  {
   "cell_type": "code",
   "execution_count": null,
   "metadata": {},
   "outputs": [],
   "source": [
    "#Code to import multiple files by wildcard \n",
    "\n",
    "employment_file_to_load = glob.glob('Resources/blsdata/*.xlsx')\n",
    "\n"
   ]
  },
  {
   "cell_type": "code",
   "execution_count": null,
   "metadata": {},
   "outputs": [],
   "source": [
    "#Create boolean list  bsed on values of coumns and replace based on list\n",
    "mask_federal = (merge_df[\"Ownership\"] == \"Federal Government\")\n",
    "merge_df[\"Industry\"][mask_federal] = \"Federal Government\"\n",
    "mask_state = (merge_df[\"Ownership\"] == \"State Government\")\n",
    "merge_df[\"Industry\"][mask_state] = \"State Government\"\n",
    "mask_local = (merge_df[\"Ownership\"] == \"Local Government\")\n",
    "merge_df[\"Industry\"][mask_local] = \"Local Government\"\n",
    "merge_df[['Ownership','Industry']]\n",
    "# Get names of indexes for which column Industry = All industries\n",
    "indexNames = merge_df[ merge_df['Industry'] == \"Total, all industries\"].index\n",
    "# Delete these row indexes from dataFrame\n",
    "merge_df.drop(indexNames , inplace=True)"
   ]
  },
  {
   "cell_type": "code",
   "execution_count": null,
   "metadata": {},
   "outputs": [],
   "source": [
    "#Code to strip digits and leading/trailing whitespace\n",
    "avg_byYear['Industry'] = avg_byYear['Industry'].str.replace('\\d+', '')\n",
    "avg_byYear['Industry'] =  avg_byYear['Industry'].str.strip()"
   ]
  }
 ],
 "metadata": {
  "kernelspec": {
   "display_name": "Python 3",
   "language": "python",
   "name": "python3"
  },
  "language_info": {
   "codemirror_mode": {
    "name": "ipython",
    "version": 3
   },
   "file_extension": ".py",
   "mimetype": "text/x-python",
   "name": "python",
   "nbconvert_exporter": "python",
   "pygments_lexer": "ipython3",
   "version": "3.7.3"
  }
 },
 "nbformat": 4,
 "nbformat_minor": 2
}
