{
 "cells": [
  {
   "cell_type": "code",
   "execution_count": null,
   "metadata": {},
   "outputs": [],
   "source": [
    "import pandas as pd\n",
    "import numpy as np\n",
    "import statistics as stat\n",
    "import plotly\n",
    "\n",
    "import plotly.graph_objs as go\n",
    "\n",
    "\n",
    "import plotly.offline as offline\n",
    "\n",
    "from plotly.graph_objs import *\n",
    "\n",
    "from plotly.offline import download_plotlyjs, init_notebook_mode, plot, iplot\n",
    "\n",
    "from urllib.request import urlopen\n",
    "import json\n",
    "with urlopen('https://raw.githubusercontent.com/plotly/datasets/master/geojson-counties-fips.json') as response:\n",
    "    counties = json.load(response)\n",
    "\n",
    "import plotly.graph_objects as go\n",
    "\n",
    "init_notebook_mode(connected=True)"
   ]
  },
  {
   "cell_type": "code",
   "execution_count": null,
   "metadata": {},
   "outputs": [],
   "source": [
    "merge_csv = \"Resources/merged_data/clean_merge2.csv\"\n",
    "merged_df = pd.read_csv(merge_csv, encoding=\"ISO-8859-1\", low_memory=False, dtype={\"FIPS\": str})"
   ]
  },
  {
   "cell_type": "code",
   "execution_count": null,
   "metadata": {},
   "outputs": [],
   "source": [
    "merged_df.head()"
   ]
  },
  {
   "cell_type": "code",
   "execution_count": null,
   "metadata": {},
   "outputs": [],
   "source": [
    "County_avg = merged_df.groupby(['Year','FIPS']).mean().round(2)\n",
    "pd.options.display.float_format = \"{:.2f}\".format\n",
    "County_avg=County_avg.reset_index()\n",
    "County_avg.head()"
   ]
  },
  {
   "cell_type": "code",
   "execution_count": null,
   "metadata": {},
   "outputs": [],
   "source": [
    "industry_avg = merged_df.groupby(['Year','Industry']).mean().round(2)\n",
    "pd.options.display.float_format = \"{:.2f}\".format\n",
    "industry_avg.head()"
   ]
  },
  {
   "cell_type": "code",
   "execution_count": null,
   "metadata": {},
   "outputs": [],
   "source": [
    "state_avg = merged_df.groupby(['Year','State']).mean().round(2)\n",
    "state_avg.head()"
   ]
  },
  {
   "cell_type": "code",
   "execution_count": null,
   "metadata": {},
   "outputs": [],
   "source": [
    "max_avg_price = []\n",
    "for year in County_avg.Year.unique():\n",
    "    max_avg_price.append(County_avg[County_avg['Year']==year].Avg_Price.max())\n",
    "max_price=stat.mean(max_avg_price)\n",
    "\n",
    "mid_avg_price = []\n",
    "for year in County_avg.Year.unique():\n",
    "    mid_avg_price.append(County_avg[County_avg['Year']==year].Avg_Price.median())\n",
    "mid_price=stat.mean(mid_avg_price)\n",
    "mid_price\n",
    "# max_avg_price"
   ]
  },
  {
   "cell_type": "code",
   "execution_count": null,
   "metadata": {},
   "outputs": [],
   "source": [
    "fig = go.Figure(go.Choroplethmapbox(geojson=counties, locations=County_avg.FIPS, z=County_avg.Avg_Price,\n",
    "                                    colorscale=\"Viridis\", zmin=0, zmax=500000,\n",
    "                                    marker_opacity=0.5, marker_line_width=0))\n",
    "fig.update_layout(mapbox_style=\"carto-positron\",\n",
    "                  mapbox_zoom=3, mapbox_center = {\"lat\": 37.0902, \"lon\": -95.7129})\n",
    "fig.update_layout(margin={\"r\":0,\"t\":0,\"l\":0,\"b\":0})\n",
    "fig.show()"
   ]
  },
  {
   "cell_type": "code",
   "execution_count": null,
   "metadata": {},
   "outputs": [],
   "source": [
    "data_slider = []\n",
    "\n",
    "for year in County_avg.Year.unique():\n",
    "        df_price = County_avg[(County_avg['Year']== year)]\n",
    "        for year in County_avg.Year.unique():\n",
    "            County_avg[County_avg['Year']==year].Avg_Price.max()\n",
    "        max_price=stat.mean(max_avg_price)\n",
    "\n",
    "        mid_avg_price = []\n",
    "        for year in County_avg.Year.unique():\n",
    "            mid_avg_price.append(County_avg[County_avg['Year']==year].Avg_Price.median())\n",
    "        mid_price=stat.mean(mid_avg_price)\n",
    "        mid_price\n",
    "        fig = go.Figure(go.Choroplethmapbox(geojson=counties, locations=df_price.FIPS, z=df_price.Avg_Price,\n",
    "                                    colorscale=\"Viridis\", zmid=mid_price,\n",
    "                                    marker_opacity=0.5, marker_line_width=0))\n",
    "        fig.update_layout(mapbox_style=\"carto-positron\",\n",
    "                          mapbox_zoom=3, mapbox_center = {\"lat\": 37.0902, \"lon\": -95.7129})\n",
    "        fig.update_layout(margin={\"r\":0,\"t\":0,\"l\":0,\"b\":0})\n",
    "        data_slider.append(fig) \n",
    "        fig.show()\n",
    "        print(mid_price)"
   ]
  },
  {
   "cell_type": "code",
   "execution_count": null,
   "metadata": {},
   "outputs": [],
   "source": [
    "# scl = [[0.0, '#ffffff'],[0.2, '#ff9999'],[0.4, '#ff4d4d'], \n",
    "#        [0.6, '#ff1a1a'],[0.8, '#cc0000'],[1.0, '#4d0000']] \n",
    "\n",
    "# data_slider = []\n",
    "\n",
    "# for year in merged_df.Year.unique():\n",
    "    \n",
    "#     df_price = merged_df[(merged_df['Year']== year)]\n",
    "\n",
    "#     for col in df_price.columns:\n",
    "#         df_price[col] = df_price[col].astype(str)\n",
    "\n",
    "#     df_price['text'] = df_price['RegionName']#+'Avg_Price: 'df_price['Avg_Price']\n",
    "    \n",
    "#     data_one_year = dict(\n",
    "#                         type='choropleth',\n",
    "#                         locations = df_price['FIPS'],\n",
    "#                         z=df_price['Avg_Price'].astype(float),\n",
    "#                         #locationmode='USA-states',\n",
    "#                         colorscale = scl,\n",
    "#                         text = df_price['text'],\n",
    "#                         )\n",
    "\n",
    "#     data_slider.append(data_one_year)    \n",
    "    "
   ]
  },
  {
   "cell_type": "code",
   "execution_count": null,
   "metadata": {},
   "outputs": [],
   "source": [
    "steps = []\n",
    "\n",
    "for i in range(len(data_slider)):\n",
    "    step = dict(method='restyle',\n",
    "                args=['visible', [False] * len(data_slider)],\n",
    "                label='Year {}'.format(i + 2009)) # label to be displayed for each step (year)\n",
    "    step['args'][1][i] = True\n",
    "    steps.append(step)\n",
    "    \n",
    "sliders = [dict(active=0, pad={\"t\": 1}, steps=steps)] \n",
    "\n",
    "# fig.update_layout(mapbox_style=\"carto-positron\",\n",
    "#                   mapbox_zoom=3, mapbox_center = {\"lat\": 37.0902, \"lon\": -95.7129})\n",
    "# fig.update_layout(margin={\"r\":0,\"t\":0,\"l\":0,\"b\":0})\n",
    "\n",
    "fig = dict(data=data_slider, layout=layout) \n",
    "\n",
    "plotly.offline.iplot(fig)"
   ]
  },
  {
   "cell_type": "code",
   "execution_count": null,
   "metadata": {},
   "outputs": [],
   "source": [
    "# data = [ dict(\n",
    "#             type='choropleth', # type of map-plot\n",
    "#             colorscale = scl,\n",
    "#             autocolorscale = False,\n",
    "#             locations = df_price['FIPS'], # the column with the state\n",
    "#             z = df_price['Avg_Price'].astype(float), # the variable I want to color-code\n",
    "#             #locationmode = 'USA-states',\n",
    "#             text = df_price['text'], # hover text\n",
    "#             marker = dict(     # for the lines separating states\n",
    "#                         line = dict (\n",
    "#                                   color = 'rgb(255,255,255)', \n",
    "#                                   width = 2) ),               \n",
    "#             colorbar = dict(\n",
    "#                         title = \"Average Price by County\")\n",
    "#             ) \n",
    "#        ]\n",
    "\n",
    "# layout = dict(\n",
    "#         title = year,\n",
    "#         geo = dict(\n",
    "#             scope='usa',\n",
    "#             projection=dict( type='albers usa' ),\n",
    "\n",
    "# #              showlakes = True,  # if you want to give color to the lakes\n",
    "\n",
    "# #             lakecolor = 'rgb(73, 216, 230)'  \n",
    "#             ),\n",
    "#              )\n",
    "\n",
    "\n",
    "# fig = dict( data=data, layout=layout )\n",
    "# plotly.offline.iplot(fig)"
   ]
  },
  {
   "cell_type": "code",
   "execution_count": null,
   "metadata": {},
   "outputs": [],
   "source": []
  }
 ],
 "metadata": {
  "kernelspec": {
   "display_name": "Python 3",
   "language": "python",
   "name": "python3"
  },
  "language_info": {
   "codemirror_mode": {
    "name": "ipython",
    "version": 3
   },
   "file_extension": ".py",
   "mimetype": "text/x-python",
   "name": "python",
   "nbconvert_exporter": "python",
   "pygments_lexer": "ipython3",
   "version": "3.7.3"
  }
 },
 "nbformat": 4,
 "nbformat_minor": 2
}
